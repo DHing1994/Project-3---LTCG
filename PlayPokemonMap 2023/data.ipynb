{
 "cells": [
  {
   "cell_type": "code",
   "execution_count": 26,
   "metadata": {},
   "outputs": [],
   "source": [
    "from splinter import Browser\n",
    "from bs4 import BeautifulSoup as soup\n",
    "from selenium.webdriver.chrome.service import Service\n",
    "import os\n",
    "import time\n",
    "import json\n"
   ]
  },
  {
   "cell_type": "code",
   "execution_count": 27,
   "metadata": {},
   "outputs": [],
   "source": [
    "# # Set up Splinter\n",
    "# driver_path = os.path.join(os.path.expanduser(\"~\"),\"webdrivers\",\"chromedriver.exe\")\n",
    "# browser = Browser('chrome',service=Service(executable_path=driver_path))"
   ]
  },
  {
   "cell_type": "code",
   "execution_count": 28,
   "metadata": {},
   "outputs": [],
   "source": [
    "\n",
    "# Set the browser to open the the pokemon leaderboard website, wait to load then open the champ points leaderboard\n",
    "# url = 'https://www.pokemon.com/us/play-pokemon/leaderboards/tcg-masters/'\n",
    "# browser.visit(url)\n",
    "# time.sleep(2)\n",
    "# browser.find_by_tag(\"select\").first.click()\n",
    "# browser.find_by_text('Champ. Points')"
   ]
  },
  {
   "cell_type": "code",
   "execution_count": 29,
   "metadata": {},
   "outputs": [],
   "source": [
    "# Parse the HTML\n",
    "html = open(\"./Resources/table.html\")\n",
    "html_soup = soup(html, 'html.parser')"
   ]
  },
  {
   "attachments": {},
   "cell_type": "markdown",
   "metadata": {},
   "source": []
  },
  {
   "cell_type": "code",
   "execution_count": 30,
   "metadata": {},
   "outputs": [],
   "source": [
    "\n",
    "\n",
    "#Getting Lat/Lon for corresponding country codes\n",
    "with open('./Resources/country-codes-lat-long-alpha3.json') as country_file:\n",
    "    country_data = country_file.read()\n",
    "\n",
    "countrydic = json.loads(country_data).get('ref_country_codes')\n",
    "countrydata = {}\n",
    "for country in countrydic:\n",
    "    countrydata[country.get('alpha3')] = {\n",
    "        \"country\":country.get('country'),\n",
    "        \"playercount\":0,\n",
    "        \"score\":0,\n",
    "        \"coords\":[country.get('latitude'), country.get('longitude')]\n",
    "    }\n",
    "\n",
    "\n"
   ]
  },
  {
   "cell_type": "code",
   "execution_count": 40,
   "metadata": {},
   "outputs": [],
   "source": [
    "#locate player data\n",
    "pages = html_soup.find_all('ul', class_='leaderboard-summary-table')\n",
    "playerdata=[]\n",
    "players = []\n",
    "\n",
    "for page in pages:\n",
    "    players.extend(page.find_all('li'))\n",
    "\n",
    "for player in players:\n",
    "    if (player.find('span', class_='player').text.strip() != \"Name\"):\n",
    "        playercountry = player.find('span', rel='tooltip').text.strip()\n",
    "        playerscore = int(player.find('span', class_='score').text.strip())\n",
    "        countrydata[playercountry][\"playercount\"] += 1\n",
    "        countrydata[playercountry][\"score\"] += playerscore\n",
    "\n",
    "jsonplayerdata=json.dumps(countrydata)\n",
    "with open('./Output/countrydata.json', 'w') as f:\n",
    "    f.write(jsonplayerdata)"
   ]
  }
 ],
 "metadata": {
  "kernelspec": {
   "display_name": "PythonData",
   "language": "python",
   "name": "python3"
  },
  "language_info": {
   "codemirror_mode": {
    "name": "ipython",
    "version": 3
   },
   "file_extension": ".py",
   "mimetype": "text/x-python",
   "name": "python",
   "nbconvert_exporter": "python",
   "pygments_lexer": "ipython3",
   "version": "3.7.16"
  },
  "orig_nbformat": 4
 },
 "nbformat": 4,
 "nbformat_minor": 2
}
