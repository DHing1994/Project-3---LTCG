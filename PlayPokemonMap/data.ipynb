{
 "cells": [
  {
   "cell_type": "code",
   "execution_count": 19,
   "metadata": {},
   "outputs": [],
   "source": [
    "from splinter import Browser\n",
    "from bs4 import BeautifulSoup as soup\n",
    "from selenium.webdriver.chrome.service import Service\n",
    "import os\n",
    "import time\n",
    "import json\n"
   ]
  },
  {
   "cell_type": "code",
   "execution_count": 20,
   "metadata": {},
   "outputs": [],
   "source": [
    "# # Set up Splinter\n",
    "# driver_path = os.path.join(os.path.expanduser(\"~\"),\"webdrivers\",\"chromedriver.exe\")\n",
    "# browser = Browser('chrome',service=Service(executable_path=driver_path))"
   ]
  },
  {
   "cell_type": "code",
   "execution_count": 21,
   "metadata": {},
   "outputs": [],
   "source": [
    "\n",
    "# Set the browser to open the the pokemon leaderboard website, wait to load then open the champ points leaderboard\n",
    "# url = 'https://www.pokemon.com/us/play-pokemon/leaderboards/tcg-masters/'\n",
    "# browser.visit(url)\n",
    "# time.sleep(2)\n",
    "# browser.find_by_tag(\"select\").first.click()\n",
    "# browser.find_by_text('Champ. Points')"
   ]
  },
  {
   "cell_type": "code",
   "execution_count": 22,
   "metadata": {},
   "outputs": [],
   "source": [
    "# Parse the HTML\n",
    "html = open(\"./Resources/table.html\")\n",
    "html_soup = soup(html, 'html.parser')"
   ]
  },
  {
   "attachments": {},
   "cell_type": "markdown",
   "metadata": {},
   "source": []
  },
  {
   "cell_type": "code",
   "execution_count": 24,
   "metadata": {},
   "outputs": [
    {
     "name": "stdout",
     "output_type": "stream",
     "text": [
      "{'ALB': {'country': 'Albania', 'playercount': 0, 'score': 0, 'coords': [41, 20]}, 'DZA': {'country': 'Algeria', 'playercount': 0, 'score': 0, 'coords': [28, 3]}, 'ASM': {'country': 'American Samoa', 'playercount': 0, 'score': 0, 'coords': [-14.3333, -170]}, 'AND': {'country': 'Andorra', 'playercount': 0, 'score': 0, 'coords': [42.5, 1.6]}, 'AGO': {'country': 'Angola', 'playercount': 0, 'score': 0, 'coords': [-12.5, 18.5]}, 'AIA': {'country': 'Anguilla', 'playercount': 0, 'score': 0, 'coords': [18.25, -63.1667]}, 'ATA': {'country': 'Antarctica', 'playercount': 0, 'score': 0, 'coords': [-90, 0]}, 'ATG': {'country': 'Antigua and Barbuda', 'playercount': 0, 'score': 0, 'coords': [17.05, -61.8]}, 'ARG': {'country': 'Argentina', 'playercount': 2, 'score': 1037, 'coords': [-34, -64]}, 'ARM': {'country': 'Armenia', 'playercount': 0, 'score': 0, 'coords': [40, 45]}, 'ABW': {'country': 'Aruba', 'playercount': 0, 'score': 0, 'coords': [12.5, -69.9667]}, 'AUS': {'country': 'Australia', 'playercount': 6, 'score': 3261, 'coords': [-27, 133]}, 'AUT': {'country': 'Austria', 'playercount': 0, 'score': 0, 'coords': [47.3333, 13.3333]}, 'AZE': {'country': 'Azerbaijan', 'playercount': 0, 'score': 0, 'coords': [40.5, 47.5]}, 'BHS': {'country': 'Bahamas', 'playercount': 0, 'score': 0, 'coords': [24.25, -76]}, 'BHR': {'country': 'Bahrain', 'playercount': 0, 'score': 0, 'coords': [26, 50.55]}, 'BGD': {'country': 'Bangladesh', 'playercount': 0, 'score': 0, 'coords': [24, 90]}, 'BRB': {'country': 'Barbados', 'playercount': 0, 'score': 0, 'coords': [13.1667, -59.5333]}, 'BLR': {'country': 'Belarus', 'playercount': 0, 'score': 0, 'coords': [53, 28]}, 'BEL': {'country': 'Belgium', 'playercount': 0, 'score': 0, 'coords': [50.8333, 4]}, 'BLZ': {'country': 'Belize', 'playercount': 0, 'score': 0, 'coords': [17.25, -88.75]}, 'BEN': {'country': 'Benin', 'playercount': 0, 'score': 0, 'coords': [9.5, 2.25]}, 'BMU': {'country': 'Bermuda', 'playercount': 0, 'score': 0, 'coords': [32.3333, -64.75]}, 'BTN': {'country': 'Bhutan', 'playercount': 0, 'score': 0, 'coords': [27.5, 90.5]}, 'BOL': {'country': 'Bolivia, Plurinational State of', 'playercount': 0, 'score': 0, 'coords': [-17, -65]}, 'BIH': {'country': 'Bosnia and Herzegovina', 'playercount': 0, 'score': 0, 'coords': [44, 18]}, 'BWA': {'country': 'Botswana', 'playercount': 0, 'score': 0, 'coords': [-22, 24]}, 'BVT': {'country': 'Bouvet Island', 'playercount': 0, 'score': 0, 'coords': [-54.4333, 3.4]}, 'BRA': {'country': 'Brazil', 'playercount': 5, 'score': 3409, 'coords': [-10, -55]}, 'IOT': {'country': 'British Indian Ocean Territory', 'playercount': 0, 'score': 0, 'coords': [-6, 71.5]}, 'BRN': {'country': 'Brunei Darussalam', 'playercount': 0, 'score': 0, 'coords': [4.5, 114.6667]}, 'BGR': {'country': 'Bulgaria', 'playercount': 0, 'score': 0, 'coords': [43, 25]}, 'BFA': {'country': 'Burkina Faso', 'playercount': 0, 'score': 0, 'coords': [13, -2]}, 'BDI': {'country': 'Burundi', 'playercount': 0, 'score': 0, 'coords': [-3.5, 30]}, 'KHM': {'country': 'Cambodia', 'playercount': 0, 'score': 0, 'coords': [13, 105]}, 'CMR': {'country': 'Cameroon', 'playercount': 0, 'score': 0, 'coords': [6, 12]}, 'CAN': {'country': 'Canada', 'playercount': 7, 'score': 3706, 'coords': [60, -95]}, 'CPV': {'country': 'Cape Verde', 'playercount': 0, 'score': 0, 'coords': [16, -24]}, 'CYM': {'country': 'Cayman Islands', 'playercount': 0, 'score': 0, 'coords': [19.5, -80.5]}, 'CAF': {'country': 'Central African Republic', 'playercount': 0, 'score': 0, 'coords': [7, 21]}, 'TCD': {'country': 'Chad', 'playercount': 0, 'score': 0, 'coords': [15, 19]}, 'CHL': {'country': 'Chile', 'playercount': 2, 'score': 1200, 'coords': [-30, -71]}, 'CHN': {'country': 'China', 'playercount': 0, 'score': 0, 'coords': [35, 105]}, 'CXR': {'country': 'Christmas Island', 'playercount': 0, 'score': 0, 'coords': [-10.5, 105.6667]}, 'CCK': {'country': 'Cocos (Keeling) Islands', 'playercount': 0, 'score': 0, 'coords': [-12.5, 96.8333]}, 'COL': {'country': 'Colombia', 'playercount': 0, 'score': 0, 'coords': [4, -72]}, 'COM': {'country': 'Comoros', 'playercount': 0, 'score': 0, 'coords': [-12.1667, 44.25]}, 'COG': {'country': 'Congo', 'playercount': 0, 'score': 0, 'coords': [-1, 15]}, 'COD': {'country': 'Congo, the Democratic Republic of the', 'playercount': 0, 'score': 0, 'coords': [0, 25]}, 'COK': {'country': 'Cook Islands', 'playercount': 0, 'score': 0, 'coords': [-21.2333, -159.7667]}, 'CRI': {'country': 'Costa Rica', 'playercount': 0, 'score': 0, 'coords': [10, -84]}, 'CIV': {'country': \"Côte d'Ivoire\", 'playercount': 0, 'score': 0, 'coords': [8, -5]}, 'HRV': {'country': 'Croatia', 'playercount': 0, 'score': 0, 'coords': [45.1667, 15.5]}, 'CUB': {'country': 'Cuba', 'playercount': 0, 'score': 0, 'coords': [21.5, -80]}, 'CYP': {'country': 'Cyprus', 'playercount': 0, 'score': 0, 'coords': [35, 33]}, 'CZE': {'country': 'Czech Republic', 'playercount': 0, 'score': 0, 'coords': [49.75, 15.5]}, 'DNK': {'country': 'Denmark', 'playercount': 2, 'score': 1235, 'coords': [56, 10]}, 'DJI': {'country': 'Djibouti', 'playercount': 0, 'score': 0, 'coords': [11.5, 43]}, 'DMA': {'country': 'Dominica', 'playercount': 0, 'score': 0, 'coords': [15.4167, -61.3333]}, 'DOM': {'country': 'Dominican Republic', 'playercount': 0, 'score': 0, 'coords': [19, -70.6667]}, 'ECU': {'country': 'Ecuador', 'playercount': 0, 'score': 0, 'coords': [-2, -77.5]}, 'EGY': {'country': 'Egypt', 'playercount': 0, 'score': 0, 'coords': [27, 30]}, 'SLV': {'country': 'El Salvador', 'playercount': 0, 'score': 0, 'coords': [13.8333, -88.9167]}, 'GNQ': {'country': 'Equatorial Guinea', 'playercount': 0, 'score': 0, 'coords': [2, 10]}, 'ERI': {'country': 'Eritrea', 'playercount': 0, 'score': 0, 'coords': [15, 39]}, 'EST': {'country': 'Estonia', 'playercount': 0, 'score': 0, 'coords': [59, 26]}, 'ETH': {'country': 'Ethiopia', 'playercount': 0, 'score': 0, 'coords': [8, 38]}, 'FLK': {'country': 'Falkland Islands (Malvinas)', 'playercount': 0, 'score': 0, 'coords': [-51.75, -59]}, 'FRO': {'country': 'Faroe Islands', 'playercount': 0, 'score': 0, 'coords': [62, -7]}, 'FJI': {'country': 'Fiji', 'playercount': 0, 'score': 0, 'coords': [-18, 175]}, 'FIN': {'country': 'Finland', 'playercount': 3, 'score': 1820, 'coords': [64, 26]}, 'FRA': {'country': 'France', 'playercount': 5, 'score': 2903, 'coords': [46, 2]}, 'GUF': {'country': 'French Guiana', 'playercount': 0, 'score': 0, 'coords': [4, -53]}, 'PYF': {'country': 'French Polynesia', 'playercount': 0, 'score': 0, 'coords': [-15, -140]}, 'ATF': {'country': 'French Southern Territories', 'playercount': 0, 'score': 0, 'coords': [-43, 67]}, 'GAB': {'country': 'Gabon', 'playercount': 0, 'score': 0, 'coords': [-1, 11.75]}, 'GMB': {'country': 'Gambia', 'playercount': 0, 'score': 0, 'coords': [13.4667, -16.5667]}, 'GEO': {'country': 'Georgia', 'playercount': 0, 'score': 0, 'coords': [42, 43.5]}, 'DEU': {'country': 'Germany', 'playercount': 1, 'score': 550, 'coords': [51, 9]}, 'GHA': {'country': 'Ghana', 'playercount': 0, 'score': 0, 'coords': [8, -2]}, 'GIB': {'country': 'Gibraltar', 'playercount': 0, 'score': 0, 'coords': [36.1833, -5.3667]}, 'GRC': {'country': 'Greece', 'playercount': 0, 'score': 0, 'coords': [39, 22]}, 'GRL': {'country': 'Greenland', 'playercount': 0, 'score': 0, 'coords': [72, -40]}, 'GRD': {'country': 'Grenada', 'playercount': 0, 'score': 0, 'coords': [12.1167, -61.6667]}, 'GLP': {'country': 'Guadeloupe', 'playercount': 0, 'score': 0, 'coords': [16.25, -61.5833]}, 'GUM': {'country': 'Guam', 'playercount': 0, 'score': 0, 'coords': [13.4667, 144.7833]}, 'GTM': {'country': 'Guatemala', 'playercount': 0, 'score': 0, 'coords': [15.5, -90.25]}, 'GGY': {'country': 'Guernsey', 'playercount': 0, 'score': 0, 'coords': [49.5, -2.56]}, 'GIN': {'country': 'Guinea', 'playercount': 0, 'score': 0, 'coords': [11, -10]}, 'GNB': {'country': 'Guinea-Bissau', 'playercount': 0, 'score': 0, 'coords': [12, -15]}, 'GUY': {'country': 'Guyana', 'playercount': 0, 'score': 0, 'coords': [5, -59]}, 'HTI': {'country': 'Haiti', 'playercount': 0, 'score': 0, 'coords': [19, -72.4167]}, 'HMD': {'country': 'Heard Island and McDonald Islands', 'playercount': 0, 'score': 0, 'coords': [-53.1, 72.5167]}, 'VAT': {'country': 'Holy See (Vatican City State)', 'playercount': 0, 'score': 0, 'coords': [41.9, 12.45]}, 'HND': {'country': 'Honduras', 'playercount': 0, 'score': 0, 'coords': [15, -86.5]}, 'HKG': {'country': 'Hong Kong', 'playercount': 0, 'score': 0, 'coords': [22.25, 114.1667]}, 'HUN': {'country': 'Hungary', 'playercount': 0, 'score': 0, 'coords': [47, 20]}, 'ISL': {'country': 'Iceland', 'playercount': 0, 'score': 0, 'coords': [65, -18]}, 'IND': {'country': 'India', 'playercount': 0, 'score': 0, 'coords': [20, 77]}, 'IDN': {'country': 'Indonesia', 'playercount': 0, 'score': 0, 'coords': [-5, 120]}, 'IRN': {'country': 'Iran, Islamic Republic of', 'playercount': 0, 'score': 0, 'coords': [32, 53]}, 'IRQ': {'country': 'Iraq', 'playercount': 0, 'score': 0, 'coords': [33, 44]}, 'IRL': {'country': 'Ireland', 'playercount': 0, 'score': 0, 'coords': [53, -8]}, 'IMN': {'country': 'Isle of Man', 'playercount': 0, 'score': 0, 'coords': [54.23, -4.55]}, 'ISR': {'country': 'Israel', 'playercount': 1, 'score': 750, 'coords': [31.5, 34.75]}, 'ITA': {'country': 'Italy', 'playercount': 7, 'score': 3324, 'coords': [42.8333, 12.8333]}, 'JAM': {'country': 'Jamaica', 'playercount': 0, 'score': 0, 'coords': [18.25, -77.5]}, 'JPN': {'country': 'Japan', 'playercount': 0, 'score': 0, 'coords': [36, 138]}, 'JEY': {'country': 'Jersey', 'playercount': 0, 'score': 0, 'coords': [49.21, -2.13]}, 'JOR': {'country': 'Jordan', 'playercount': 0, 'score': 0, 'coords': [31, 36]}, 'KAZ': {'country': 'Kazakhstan', 'playercount': 0, 'score': 0, 'coords': [48, 68]}, 'KEN': {'country': 'Kenya', 'playercount': 0, 'score': 0, 'coords': [1, 38]}, 'KIR': {'country': 'Kiribati', 'playercount': 0, 'score': 0, 'coords': [1.4167, 173]}, 'PRK': {'country': \"Korea, Democratic People's Republic of\", 'playercount': 0, 'score': 0, 'coords': [40, 127]}, 'KOR': {'country': 'Korea, Republic of', 'playercount': 0, 'score': 0, 'coords': [37, 127.5]}, 'KWT': {'country': 'Kuwait', 'playercount': 0, 'score': 0, 'coords': [29.3375, 47.6581]}, 'KGZ': {'country': 'Kyrgyzstan', 'playercount': 0, 'score': 0, 'coords': [41, 75]}, 'LAO': {'country': \"Lao People's Democratic Republic\", 'playercount': 0, 'score': 0, 'coords': [18, 105]}, 'LVA': {'country': 'Latvia', 'playercount': 0, 'score': 0, 'coords': [57, 25]}, 'LBN': {'country': 'Lebanon', 'playercount': 0, 'score': 0, 'coords': [33.8333, 35.8333]}, 'LSO': {'country': 'Lesotho', 'playercount': 0, 'score': 0, 'coords': [-29.5, 28.5]}, 'LBR': {'country': 'Liberia', 'playercount': 0, 'score': 0, 'coords': [6.5, -9.5]}, 'LBY': {'country': 'Libyan Arab Jamahiriya', 'playercount': 0, 'score': 0, 'coords': [25, 17]}, 'LIE': {'country': 'Liechtenstein', 'playercount': 0, 'score': 0, 'coords': [47.1667, 9.5333]}, 'LTU': {'country': 'Lithuania', 'playercount': 0, 'score': 0, 'coords': [56, 24]}, 'LUX': {'country': 'Luxembourg', 'playercount': 0, 'score': 0, 'coords': [49.75, 6.1667]}, 'MAC': {'country': 'Macao', 'playercount': 0, 'score': 0, 'coords': [22.1667, 113.55]}, 'MKD': {'country': 'Macedonia, the former Yugoslav Republic of', 'playercount': 0, 'score': 0, 'coords': [41.8333, 22]}, 'MDG': {'country': 'Madagascar', 'playercount': 0, 'score': 0, 'coords': [-20, 47]}, 'MWI': {'country': 'Malawi', 'playercount': 0, 'score': 0, 'coords': [-13.5, 34]}, 'MYS': {'country': 'Malaysia', 'playercount': 0, 'score': 0, 'coords': [2.5, 112.5]}, 'MDV': {'country': 'Maldives', 'playercount': 0, 'score': 0, 'coords': [3.25, 73]}, 'MLI': {'country': 'Mali', 'playercount': 0, 'score': 0, 'coords': [17, -4]}, 'MLT': {'country': 'Malta', 'playercount': 0, 'score': 0, 'coords': [35.8333, 14.5833]}, 'MHL': {'country': 'Marshall Islands', 'playercount': 0, 'score': 0, 'coords': [9, 168]}, 'MTQ': {'country': 'Martinique', 'playercount': 0, 'score': 0, 'coords': [14.6667, -61]}, 'MRT': {'country': 'Mauritania', 'playercount': 0, 'score': 0, 'coords': [20, -12]}, 'MUS': {'country': 'Mauritius', 'playercount': 0, 'score': 0, 'coords': [-20.2833, 57.55]}, 'MYT': {'country': 'Mayotte', 'playercount': 0, 'score': 0, 'coords': [-12.8333, 45.1667]}, 'MEX': {'country': 'Mexico', 'playercount': 1, 'score': 680, 'coords': [23, -102]}, 'FSM': {'country': 'Micronesia, Federated States of', 'playercount': 0, 'score': 0, 'coords': [6.9167, 158.25]}, 'MDA': {'country': 'Moldova, Republic of', 'playercount': 0, 'score': 0, 'coords': [47, 29]}, 'MCO': {'country': 'Monaco', 'playercount': 0, 'score': 0, 'coords': [43.7333, 7.4]}, 'MNG': {'country': 'Mongolia', 'playercount': 0, 'score': 0, 'coords': [46, 105]}, 'MNE': {'country': 'Montenegro', 'playercount': 0, 'score': 0, 'coords': [42, 19]}, 'MSR': {'country': 'Montserrat', 'playercount': 0, 'score': 0, 'coords': [16.75, -62.2]}, 'MAR': {'country': 'Morocco', 'playercount': 0, 'score': 0, 'coords': [32, -5]}, 'MOZ': {'country': 'Mozambique', 'playercount': 0, 'score': 0, 'coords': [-18.25, 35]}, 'MMR': {'country': 'Myanmar', 'playercount': 0, 'score': 0, 'coords': [22, 98]}, 'NAM': {'country': 'Namibia', 'playercount': 0, 'score': 0, 'coords': [-22, 17]}, 'NRU': {'country': 'Nauru', 'playercount': 0, 'score': 0, 'coords': [-0.5333, 166.9167]}, 'NPL': {'country': 'Nepal', 'playercount': 0, 'score': 0, 'coords': [28, 84]}, 'NLD': {'country': 'Netherlands', 'playercount': 5, 'score': 3788, 'coords': [52.5, 5.75]}, 'ANT': {'country': 'Netherlands Antilles', 'playercount': 0, 'score': 0, 'coords': [12.25, -68.75]}, 'NCL': {'country': 'New Caledonia', 'playercount': 0, 'score': 0, 'coords': [-21.5, 165.5]}, 'NZL': {'country': 'New Zealand', 'playercount': 0, 'score': 0, 'coords': [-41, 174]}, 'NIC': {'country': 'Nicaragua', 'playercount': 0, 'score': 0, 'coords': [13, -85]}, 'NER': {'country': 'Niger', 'playercount': 0, 'score': 0, 'coords': [16, 8]}, 'NGA': {'country': 'Nigeria', 'playercount': 0, 'score': 0, 'coords': [10, 8]}, 'NIU': {'country': 'Niue', 'playercount': 0, 'score': 0, 'coords': [-19.0333, -169.8667]}, 'NFK': {'country': 'Norfolk Island', 'playercount': 0, 'score': 0, 'coords': [-29.0333, 167.95]}, 'MNP': {'country': 'Northern Mariana Islands', 'playercount': 0, 'score': 0, 'coords': [15.2, 145.75]}, 'NOR': {'country': 'Norway', 'playercount': 1, 'score': 1615, 'coords': [62, 10]}, 'OMN': {'country': 'Oman', 'playercount': 0, 'score': 0, 'coords': [21, 57]}, 'PAK': {'country': 'Pakistan', 'playercount': 0, 'score': 0, 'coords': [30, 70]}, 'PLW': {'country': 'Palau', 'playercount': 0, 'score': 0, 'coords': [7.5, 134.5]}, 'PSE': {'country': 'Palestinian Territory, Occupied', 'playercount': 0, 'score': 0, 'coords': [32, 35.25]}, 'PAN': {'country': 'Panama', 'playercount': 0, 'score': 0, 'coords': [9, -80]}, 'PNG': {'country': 'Papua New Guinea', 'playercount': 0, 'score': 0, 'coords': [-6, 147]}, 'PRY': {'country': 'Paraguay', 'playercount': 0, 'score': 0, 'coords': [-23, -58]}, 'PER': {'country': 'Peru', 'playercount': 1, 'score': 554, 'coords': [-10, -76]}, 'PHL': {'country': 'Philippines', 'playercount': 0, 'score': 0, 'coords': [13, 122]}, 'PCN': {'country': 'Pitcairn', 'playercount': 0, 'score': 0, 'coords': [-24.7, -127.4]}, 'POL': {'country': 'Poland', 'playercount': 3, 'score': 1497, 'coords': [52, 20]}, 'PRT': {'country': 'Portugal', 'playercount': 1, 'score': 472, 'coords': [39.5, -8]}, 'PRI': {'country': 'Puerto Rico', 'playercount': 0, 'score': 0, 'coords': [18.25, -66.5]}, 'QAT': {'country': 'Qatar', 'playercount': 0, 'score': 0, 'coords': [25.5, 51.25]}, 'REU': {'country': 'Réunion', 'playercount': 0, 'score': 0, 'coords': [-21.1, 55.6]}, 'ROU': {'country': 'Romania', 'playercount': 0, 'score': 0, 'coords': [46, 25]}, 'RUS': {'country': 'Russian Federation', 'playercount': 0, 'score': 0, 'coords': [60, 100]}, 'RWA': {'country': 'Rwanda', 'playercount': 0, 'score': 0, 'coords': [-2, 30]}, 'SHN': {'country': 'Saint Helena, Ascension and Tristan da Cunha', 'playercount': 0, 'score': 0, 'coords': [-15.9333, -5.7]}, 'KNA': {'country': 'Saint Kitts and Nevis', 'playercount': 0, 'score': 0, 'coords': [17.3333, -62.75]}, 'LCA': {'country': 'Saint Lucia', 'playercount': 0, 'score': 0, 'coords': [13.8833, -61.1333]}, 'SPM': {'country': 'Saint Pierre and Miquelon', 'playercount': 0, 'score': 0, 'coords': [46.8333, -56.3333]}, 'VCT': {'country': 'Saint Vincent and the Grenadines', 'playercount': 0, 'score': 0, 'coords': [13.25, -61.2]}, 'WSM': {'country': 'Samoa', 'playercount': 0, 'score': 0, 'coords': [-13.5833, -172.3333]}, 'SMR': {'country': 'San Marino', 'playercount': 0, 'score': 0, 'coords': [43.7667, 12.4167]}, 'STP': {'country': 'Sao Tome and Principe', 'playercount': 0, 'score': 0, 'coords': [1, 7]}, 'SAU': {'country': 'Saudi Arabia', 'playercount': 0, 'score': 0, 'coords': [25, 45]}, 'SEN': {'country': 'Senegal', 'playercount': 0, 'score': 0, 'coords': [14, -14]}, 'SRB': {'country': 'Serbia', 'playercount': 0, 'score': 0, 'coords': [44, 21]}, 'SYC': {'country': 'Seychelles', 'playercount': 0, 'score': 0, 'coords': [-4.5833, 55.6667]}, 'SLE': {'country': 'Sierra Leone', 'playercount': 0, 'score': 0, 'coords': [8.5, -11.5]}, 'SGP': {'country': 'Singapore', 'playercount': 0, 'score': 0, 'coords': [1.3667, 103.8]}, 'SVK': {'country': 'Slovakia', 'playercount': 0, 'score': 0, 'coords': [48.6667, 19.5]}, 'SVN': {'country': 'Slovenia', 'playercount': 0, 'score': 0, 'coords': [46, 15]}, 'SLB': {'country': 'Solomon Islands', 'playercount': 0, 'score': 0, 'coords': [-8, 159]}, 'SOM': {'country': 'Somalia', 'playercount': 0, 'score': 0, 'coords': [10, 49]}, 'ZAF': {'country': 'South Africa', 'playercount': 0, 'score': 0, 'coords': [-29, 24]}, 'SGS': {'country': 'South Georgia and the South Sandwich Islands', 'playercount': 0, 'score': 0, 'coords': [-54.5, -37]}, 'ESP': {'country': 'Spain', 'playercount': 3, 'score': 2172, 'coords': [40, -4]}, 'LKA': {'country': 'Sri Lanka', 'playercount': 0, 'score': 0, 'coords': [7, 81]}, 'SDN': {'country': 'Sudan', 'playercount': 0, 'score': 0, 'coords': [15, 30]}, 'SUR': {'country': 'Suriname', 'playercount': 0, 'score': 0, 'coords': [4, -56]}, 'SJM': {'country': 'Svalbard and Jan Mayen', 'playercount': 0, 'score': 0, 'coords': [78, 20]}, 'SWZ': {'country': 'Swaziland', 'playercount': 0, 'score': 0, 'coords': [-26.5, 31.5]}, 'SWE': {'country': 'Sweden', 'playercount': 0, 'score': 0, 'coords': [62, 15]}, 'CHE': {'country': 'Switzerland', 'playercount': 0, 'score': 0, 'coords': [47, 8]}, 'SYR': {'country': 'Syrian Arab Republic', 'playercount': 0, 'score': 0, 'coords': [35, 38]}, 'TWN': {'country': 'Taiwan, Province of China', 'playercount': 0, 'score': 0, 'coords': [23.5, 121]}, 'TJK': {'country': 'Tajikistan', 'playercount': 0, 'score': 0, 'coords': [39, 71]}, 'TZA': {'country': 'Tanzania, United Republic of', 'playercount': 0, 'score': 0, 'coords': [-6, 35]}, 'THA': {'country': 'Thailand', 'playercount': 0, 'score': 0, 'coords': [15, 100]}, 'TLS': {'country': 'Timor-Leste', 'playercount': 0, 'score': 0, 'coords': [-8.55, 125.5167]}, 'TGO': {'country': 'Togo', 'playercount': 0, 'score': 0, 'coords': [8, 1.1667]}, 'TKL': {'country': 'Tokelau', 'playercount': 0, 'score': 0, 'coords': [-9, -172]}, 'TON': {'country': 'Tonga', 'playercount': 0, 'score': 0, 'coords': [-20, -175]}, 'TTO': {'country': 'Trinidad and Tobago', 'playercount': 0, 'score': 0, 'coords': [11, -61]}, 'TUN': {'country': 'Tunisia', 'playercount': 0, 'score': 0, 'coords': [34, 9]}, 'TUR': {'country': 'Turkey', 'playercount': 0, 'score': 0, 'coords': [39, 35]}, 'TKM': {'country': 'Turkmenistan', 'playercount': 0, 'score': 0, 'coords': [40, 60]}, 'TCA': {'country': 'Turks and Caicos Islands', 'playercount': 0, 'score': 0, 'coords': [21.75, -71.5833]}, 'TUV': {'country': 'Tuvalu', 'playercount': 0, 'score': 0, 'coords': [-8, 178]}, 'UGA': {'country': 'Uganda', 'playercount': 0, 'score': 0, 'coords': [1, 32]}, 'UKR': {'country': 'Ukraine', 'playercount': 0, 'score': 0, 'coords': [49, 32]}, 'ARE': {'country': 'United Arab Emirates', 'playercount': 0, 'score': 0, 'coords': [24, 54]}, 'GBR': {'country': 'United Kingdom', 'playercount': 5, 'score': 2461, 'coords': [54, -2]}, 'USA': {'country': 'United States', 'playercount': 39, 'score': 27971, 'coords': [38, -97]}, 'UMI': {'country': 'United States Minor Outlying Islands', 'playercount': 0, 'score': 0, 'coords': [19.2833, 166.6]}, 'URY': {'country': 'Uruguay', 'playercount': 0, 'score': 0, 'coords': [-33, -56]}, 'UZB': {'country': 'Uzbekistan', 'playercount': 0, 'score': 0, 'coords': [41, 64]}, 'VUT': {'country': 'Vanuatu', 'playercount': 0, 'score': 0, 'coords': [-16, 167]}, 'VEN': {'country': 'Venezuela, Bolivarian Republic of', 'playercount': 0, 'score': 0, 'coords': [8, -66]}, 'VNM': {'country': 'Viet Nam', 'playercount': 0, 'score': 0, 'coords': [16, 106]}, 'VGB': {'country': 'Virgin Islands, British', 'playercount': 0, 'score': 0, 'coords': [18.5, -64.5]}, 'VIR': {'country': 'Virgin Islands, U.S.', 'playercount': 0, 'score': 0, 'coords': [18.3333, -64.8333]}, 'WLF': {'country': 'Wallis and Futuna', 'playercount': 0, 'score': 0, 'coords': [-13.3, -176.2]}, 'ESH': {'country': 'Western Sahara', 'playercount': 0, 'score': 0, 'coords': [24.5, -13]}, 'YEM': {'country': 'Yemen', 'playercount': 0, 'score': 0, 'coords': [15, 48]}, 'ZMB': {'country': 'Zambia', 'playercount': 0, 'score': 0, 'coords': [-15, 30]}, 'ZWE': {'country': 'Zimbabwe', 'playercount': 0, 'score': 0, 'coords': [-20, 30]}, 'AFG': {'country': 'Afghanistan', 'playercount': 0, 'score': 0, 'coords': [33, 65]}}\n"
     ]
    }
   ],
   "source": [
    "\n",
    "\n",
    "#Getting Lat/Lon for corresponding country codes\n",
    "with open('./Resources/country-codes-lat-long-alpha3.json') as country_file:\n",
    "    country_data = country_file.read()\n",
    "\n",
    "countrydic = json.loads(country_data).get('ref_country_codes')\n",
    "countrydata = {}\n",
    "for country in countrydic:\n",
    "    countrydata[country.get('alpha3')] = {\n",
    "        \"country\":country.get('country'),\n",
    "        \"playercount\":0,\n",
    "        \"score\":0,\n",
    "        \"coords\":[country.get('latitude'), country.get('longitude')]\n",
    "    }\n",
    "\n",
    "\n"
   ]
  },
  {
   "cell_type": "code",
   "execution_count": null,
   "metadata": {},
   "outputs": [],
   "source": [
    "#locate player data\n",
    "table = html_soup.find('ul', class_='leaderboard-summary-table')\n",
    "playerdata=[]\n",
    "rows = table.find_all('li')\n",
    "\n",
    "for row in rows:\n",
    "    if (row.find('span', class_='player').text.strip() != \"Name\"):\n",
    "        playercountry = row.find('span', rel='tooltip').text.strip()\n",
    "        playerscore = int(row.find('span', class_='score').text.strip())\n",
    "        countrydata[playercountry][\"playercount\"] += 1\n",
    "        countrydata[playercountry][\"score\"] += playerscore\n",
    "\n",
    "jsonplayerdata=json.dumps(countrydata)\n",
    "with open('./Output/countrydata.json', 'w') as f:\n",
    "    f.write(jsonplayerdata)"
   ]
  }
 ],
 "metadata": {
  "kernelspec": {
   "display_name": "PythonData",
   "language": "python",
   "name": "python3"
  },
  "language_info": {
   "codemirror_mode": {
    "name": "ipython",
    "version": 3
   },
   "file_extension": ".py",
   "mimetype": "text/x-python",
   "name": "python",
   "nbconvert_exporter": "python",
   "pygments_lexer": "ipython3",
   "version": "3.7.16"
  },
  "orig_nbformat": 4
 },
 "nbformat": 4,
 "nbformat_minor": 2
}
